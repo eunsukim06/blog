{
 "cells": [
  {
   "cell_type": "markdown",
   "id": "0901cc18",
   "metadata": {},
   "source": [
    "# \"1-1. 머신러닝을 위한 주가 데이터셋 생성\"\n",
    "> \"2022 DS&ML Stock Prediction Project | 1. Stock Prediction Part.1 - baseline model \"\n",
    "\n",
    "- toc:true\n",
    "- badges: true\n",
    "- comments: true\n",
    "- author: ag-su\n",
    "- categories: [Stock Prediction]"
   ]
  },
  {
   "cell_type": "markdown",
   "id": "8578a36b",
   "metadata": {},
   "source": [
    "# 1. Stock Prediction Part.1 - baseline model  \n",
    "## 1-1. 머신러닝을 위한 주가 데이터셋 생성\n",
    "주가 데이터셋 생성 절차는 `df2list` - `dictionary` - `MultiProcessing` - `MySQL` 순서로 진행한다. 4가지 절차를 통해 데이터셋이 달라지는 것은 아니고, 속도를 개선시키는 방향으로의 효율적인 코드를 짜기 위한 훈련 과정이다. 대규모 데이터셋을 다루기 위해서는 효율적인 코딩을 통해 속도를 개선하는 것도 중요한 일이다. 특히 이번에 사용하는 주가 데이터셋은 양이 많을 뿐만 아니라, `fdr` 라이브러리를 사용하여 외부에서 불러와야하기 때문에 데이터셋을 구성하는 것만 해도 속도가 상당히 느리다. 이러한 문제점을 해결하고자 본 포스팅에서는 4단계에 걸친 데이터셋 생성 과정을 보여준다.  \n",
    "\n",
    "<br>\n",
    "\n",
    "### 데이터셋 정의\n",
    "- __`조건`__: 전체 약 2000개 종목 중 2018년 부터 존속하였던 기업 중 거래대금이 1000억 이상 발생한 날짜 (거래대금은 추후에 수정 가능) \n",
    "- __`column`__: __`조건`__ 에서 선별한 특정 날짜를 D0라고 했을 때, D-9, D-8, ..., D0, 총 10일 치의 `Open`, `High`, `Low`, `Close`, `거래대금(trading_value)` \n",
    "- __`label`__:  조건에 부합하는 특정 날짜(D0) 대비 다음날(D+1) 날짜의 종가(close)가 2%이상 상승하면 `1`, 상승하지 않으면 `0`\n",
    "- __`train dataset`__: 2018년 1월 2일 - 2020년 12월 31일 (2년)\n",
    "- __`test dataset`__: 2021년 1월 2일 ~ 2021년 6월 31일 (6개월)\n",
    "\n",
    "<br>\n",
    "\n",
    "### 데이터셋 생성 과제\n",
    "데이터셋 생성을 총 3가지 과제로 나누어 진행한다.\n",
    "- __`과제 I`__: 종목 리스트 생성-2018년 부터 존속하였던 기업(상장일 2018년 1월 1일 이전 기업)  선별\n",
    "- __`과제 II`__: __`과제I`__ 의 기업 중 거래대금이 1000억 이상 발생했던 특정 날짜 선별 (`거래대금`=`거래량`X`종가` 로 계산)\n",
    "- __`과제 III`__: __`과제II`__ 의 날짜에 대해 최종 머신러닝 데이터 생성\n",
    "\n",
    "<br>\n",
    "\n",
    "### 목차\n",
    "- __(0)__ Finance Data Reader를 이용한 주가 데이터셋 - `DataFrame`\n",
    "- __(1)__ Finance Data Reader를 이용한 주가 데이터셋 - `df2list`\n",
    "- __(2)__ Finance Data Reader를 이용한 주가 데이터셋 - `dictionary`\n",
    "- __(3)__ Finance Data Reader를 이용한 주가 데이터셋 - `MultiProcessing`\n",
    "- __(4)__ Finance Data Reader를 이용한 주가 데이터셋 - `MySQL`\n",
    "- __(5)__ 최종 머신러닝 데이터셋 "
   ]
  },
  {
   "cell_type": "markdown",
   "id": "3125d311",
   "metadata": {},
   "source": [
    "### 필요 라이브러리 __import__"
   ]
  },
  {
   "cell_type": "code",
   "execution_count": null,
   "id": "2f4d8578",
   "metadata": {},
   "outputs": [],
   "source": [
    "# finance datareader 설치 \n",
    "# ! pip install -U finance-datareader"
   ]
  },
  {
   "cell_type": "code",
   "execution_count": 1,
   "id": "84d3d89d",
   "metadata": {},
   "outputs": [],
   "source": [
    "import pandas as pd\n",
    "import os\n",
    "from tqdm import tqdm\n",
    "import FinanceDataReader as fdr\n",
    "import time\n",
    "\n",
    "# 경고 메시지 무시 \n",
    "import warnings\n",
    "warnings.filterwarnings(action='ignore')"
   ]
  },
  {
   "cell_type": "markdown",
   "id": "faefcda9",
   "metadata": {},
   "source": [
    "## ✔️ __(0)__ Finance Data Reader를 이용한 주가 데이터셋 - `DataFrame`\n",
    "속도 비교를 위해 기존 데이터의 타입인 `DataFrame`을 사용하여 데이터셋을 생성한다. 연구 인턴 초기 첫번째로 작성했던 코드들인데, 개선해야 할 부분들이 많다. "
   ]
  },
  {
   "cell_type": "markdown",
   "id": "8f915e73",
   "metadata": {},
   "source": [
    "__과제 I__"
   ]
  },
  {
   "cell_type": "code",
   "execution_count": 54,
   "id": "9b2b4321",
   "metadata": {},
   "outputs": [
    {
     "data": {
      "text/html": [
       "<div>\n",
       "<style scoped>\n",
       "    .dataframe tbody tr th:only-of-type {\n",
       "        vertical-align: middle;\n",
       "    }\n",
       "\n",
       "    .dataframe tbody tr th {\n",
       "        vertical-align: top;\n",
       "    }\n",
       "\n",
       "    .dataframe thead th {\n",
       "        text-align: right;\n",
       "    }\n",
       "</style>\n",
       "<table border=\"1\" class=\"dataframe\">\n",
       "  <thead>\n",
       "    <tr style=\"text-align: right;\">\n",
       "      <th></th>\n",
       "      <th>회사명</th>\n",
       "      <th>종목코드</th>\n",
       "      <th>상장일</th>\n",
       "    </tr>\n",
       "  </thead>\n",
       "  <tbody>\n",
       "    <tr>\n",
       "      <th>0</th>\n",
       "      <td>DL</td>\n",
       "      <td>000210</td>\n",
       "      <td>1976-02-02</td>\n",
       "    </tr>\n",
       "    <tr>\n",
       "      <th>1</th>\n",
       "      <td>DRB동일</td>\n",
       "      <td>004840</td>\n",
       "      <td>1976-05-21</td>\n",
       "    </tr>\n",
       "    <tr>\n",
       "      <th>2</th>\n",
       "      <td>DSR</td>\n",
       "      <td>155660</td>\n",
       "      <td>2013-05-15</td>\n",
       "    </tr>\n",
       "  </tbody>\n",
       "</table>\n",
       "</div>"
      ],
      "text/plain": [
       "     회사명    종목코드         상장일\n",
       "0     DL  000210  1976-02-02\n",
       "1  DRB동일  004840  1976-05-21\n",
       "2    DSR  155660  2013-05-15"
      ]
     },
     "metadata": {},
     "output_type": "display_data"
    },
    {
     "name": "stdout",
     "output_type": "stream",
     "text": [
      "\n",
      "걸린 시간:  0.0006933212280273438\n",
      "\n",
      "상장일 2018-01-01 이전 종목코드:  ['000210', '004840', '155660', '078930', '001390']\n",
      "\n",
      "총 2507 개의 종목 중 1977 개의 종목 선별\n"
     ]
    }
   ],
   "source": [
    "df = pd.read_html('http://kind.krx.co.kr/corpgeneral/corpList.do?method=download', header=0)[0]\n",
    "\n",
    "# 회사명, 종목코드, 상장일 컬럼만 사용 \n",
    "df_code = df[['회사명', '종목코드', '상장일']]\n",
    "\n",
    "# 종목코드를 6자리로 맞춰 준다. \n",
    "df_code['종목코드'] = df_code['종목코드'].apply(lambda x : str(x).zfill(6))\n",
    "display(df_code.head(3))\n",
    "print()\n",
    "\n",
    "# 상장일이 2018년 1월 1일 이전인 종목코드 선별 \n",
    "start_time = time.time()\n",
    "lst_code = df_code.loc[df_code['상장일'] < '2018-01-01', '종목코드'].to_list()\n",
    "print(\"걸린 시간: \", time.time() - start_time)\n",
    "print()\n",
    "print('상장일 2018-01-01 이전 종목코드: ', lst_code[:5])\n",
    "print()\n",
    "print(f'총 {len(df_code)} 개의 종목 중 {len(lst_code)} 개의 종목 선별')"
   ]
  },
  {
   "cell_type": "markdown",
   "id": "ae2f2aa0",
   "metadata": {},
   "source": [
    "__과제 II__"
   ]
  },
  {
   "cell_type": "code",
   "execution_count": 62,
   "id": "259b2688",
   "metadata": {},
   "outputs": [
    {
     "name": "stderr",
     "output_type": "stream",
     "text": [
      "100%|██████████████████████████████████████████████| 1977/1977 [02:58<00:00, 11.08it/s]"
     ]
    },
    {
     "name": "stdout",
     "output_type": "stream",
     "text": [
      "총 1977 개의 종목 중 799 개의 종목 사용\n"
     ]
    },
    {
     "name": "stderr",
     "output_type": "stream",
     "text": [
      "\n"
     ]
    }
   ],
   "source": [
    "stock_dict = {}\n",
    "for code in tqdm(lst_code): \n",
    "    stock = fdr.DataReader(code, start='20180101', end='20201231')\n",
    "    stock['trading'] = stock['Volume'] * stock['Close'] # 거래대금 컬럼 추가\n",
    "    \n",
    "    if sum(stock['trading'] >= 100000000000) >= 1: # 거래대금이 1000억 이상인 데이터가 하나 이상 존재하면\n",
    "        stock_dict[code] = stock[stock['trading'] >= 100000000000].index \n",
    "\n",
    "print(f'총 {len(lst_code)} 개의 종목 중 {len(stock_dict)} 개의 종목 사용')"
   ]
  },
  {
   "cell_type": "code",
   "execution_count": 63,
   "id": "c3b49a15",
   "metadata": {},
   "outputs": [
    {
     "name": "stderr",
     "output_type": "stream",
     "text": [
      "100%|█████████████████████████████████████████████| 799/799 [00:00<00:00, 13125.89it/s]"
     ]
    },
    {
     "name": "stdout",
     "output_type": "stream",
     "text": [
      "선별된 날짜는 총 14182개\n"
     ]
    },
    {
     "name": "stderr",
     "output_type": "stream",
     "text": [
      "\n"
     ]
    }
   ],
   "source": [
    "# 선별된 종목과 날짜를 lst_code_date에 넣어준다. \n",
    "lst_code_date = []\n",
    "for code in tqdm(stock_dict): \n",
    "    for date in (stock_dict[code]):\n",
    "        lst_code_date.append([code, date])\n",
    "        \n",
    "print(f'선별된 날짜는 총 {len(lst_code_date)}개')"
   ]
  },
  {
   "cell_type": "markdown",
   "id": "5fdc42ee",
   "metadata": {},
   "source": [
    "__과제 III__"
   ]
  },
  {
   "cell_type": "code",
   "execution_count": 64,
   "id": "5ff3c910",
   "metadata": {},
   "outputs": [
    {
     "name": "stderr",
     "output_type": "stream",
     "text": [
      "100%|████████████████████████████████████████████| 14182/14182 [17:08<00:00, 13.78it/s]\n"
     ]
    }
   ],
   "source": [
    "data_dict = {'code': [], 'd0': [], 'info': [], 'up': []}\n",
    "for code, date in tqdm(lst_code_date):\n",
    "    start_date = '20171201' # 2018년 초반 날짜가 D0라면 2017년 데이터 필요 (D-9~D-1)\n",
    "    end_date = '20210130' # 2020년 후반 날짜가 D0라면 2021년 데이터 필요 (D+1) \n",
    "    stock = fdr.DataReader(code, start = start_date, end = end_date)\n",
    "    stock.reset_index(inplace=True) # 'Date' index -> column \n",
    "    \n",
    "    D9_index = stock[stock['Date'] == str(date)].index[0] - 9 # D-9 날짜의 인덱스  \n",
    "    next_index = stock[stock['Date'] == str(date)].index[0] + 1 # D+1 날짜의 인덱스  \n",
    "        \n",
    "    # 종목코드 (code)\n",
    "    data_dict['code'].append(code) \n",
    "    \n",
    "    # 기준일 (d0)\n",
    "    data_dict['d0'].append(date)\n",
    "    \n",
    "    # D-9 ~ D+1, 총 11일치의 sub stock DataFrame 생성 \n",
    "    sub_stock = stock.iloc[D9_index:next_index+1]\n",
    "    sub_stock['trading'] = sub_stock['Close'] * sub_stock['Volume'] # 거래대금 컬럼 추가 \n",
    "   \n",
    "    \n",
    "    # 10일 간의 데이터 (info)\n",
    "    info_list = []\n",
    "    for i in range(10):        \n",
    "        info_list.append(sub_stock.iloc[i, [1, 2, 3, 4, -1]].to_list())\n",
    "    remove_list=['[', ']']\n",
    "    for i in range(2): \n",
    "        info_list = f'{info_list}'.replace(remove_list[i], '')\n",
    "    data_dict['info'].append(info_list)    \n",
    "        \n",
    "        \n",
    "    # D+1 종가 2% 상승 여부 (up)\n",
    "    up = sub_stock.iloc[-2]['Close'] + 0.02 * sub_stock.iloc[-2]['Close']\n",
    "    \n",
    "    if sub_stock.iloc[-1]['Close'] >= up: \n",
    "        data_dict['up'].append(1)\n",
    "    else: \n",
    "        data_dict['up'].append(0)"
   ]
  },
  {
   "cell_type": "code",
   "execution_count": 65,
   "id": "dd1883c2",
   "metadata": {},
   "outputs": [
    {
     "data": {
      "text/html": [
       "<div>\n",
       "<style scoped>\n",
       "    .dataframe tbody tr th:only-of-type {\n",
       "        vertical-align: middle;\n",
       "    }\n",
       "\n",
       "    .dataframe tbody tr th {\n",
       "        vertical-align: top;\n",
       "    }\n",
       "\n",
       "    .dataframe thead th {\n",
       "        text-align: right;\n",
       "    }\n",
       "</style>\n",
       "<table border=\"1\" class=\"dataframe\">\n",
       "  <thead>\n",
       "    <tr style=\"text-align: right;\">\n",
       "      <th></th>\n",
       "      <th>code</th>\n",
       "      <th>d0</th>\n",
       "      <th>info</th>\n",
       "      <th>up</th>\n",
       "    </tr>\n",
       "  </thead>\n",
       "  <tbody>\n",
       "    <tr>\n",
       "      <th>0</th>\n",
       "      <td>000210</td>\n",
       "      <td>2018-01-26</td>\n",
       "      <td>78343, 78614, 76987, 77892, 9590608284, 77801,...</td>\n",
       "      <td>0</td>\n",
       "    </tr>\n",
       "    <tr>\n",
       "      <th>1</th>\n",
       "      <td>000210</td>\n",
       "      <td>2018-08-08</td>\n",
       "      <td>68855, 69397, 67590, 69036, 6067435968, 69487,...</td>\n",
       "      <td>0</td>\n",
       "    </tr>\n",
       "    <tr>\n",
       "      <th>2</th>\n",
       "      <td>000210</td>\n",
       "      <td>2020-04-02</td>\n",
       "      <td>44819, 52951, 44322, 51145, 15615437965, 47439...</td>\n",
       "      <td>0</td>\n",
       "    </tr>\n",
       "    <tr>\n",
       "      <th>3</th>\n",
       "      <td>000210</td>\n",
       "      <td>2020-09-11</td>\n",
       "      <td>80783, 84487, 78524, 78524, 61554885076, 79608...</td>\n",
       "      <td>0</td>\n",
       "    </tr>\n",
       "    <tr>\n",
       "      <th>4</th>\n",
       "      <td>000210</td>\n",
       "      <td>2020-12-11</td>\n",
       "      <td>76174, 76174, 72289, 72289, 76043112348, 72831...</td>\n",
       "      <td>0</td>\n",
       "    </tr>\n",
       "  </tbody>\n",
       "</table>\n",
       "</div>"
      ],
      "text/plain": [
       "     code         d0                                               info  up\n",
       "0  000210 2018-01-26  78343, 78614, 76987, 77892, 9590608284, 77801,...   0\n",
       "1  000210 2018-08-08  68855, 69397, 67590, 69036, 6067435968, 69487,...   0\n",
       "2  000210 2020-04-02  44819, 52951, 44322, 51145, 15615437965, 47439...   0\n",
       "3  000210 2020-09-11  80783, 84487, 78524, 78524, 61554885076, 79608...   0\n",
       "4  000210 2020-12-11  76174, 76174, 72289, 72289, 76043112348, 72831...   0"
      ]
     },
     "metadata": {},
     "output_type": "display_data"
    },
    {
     "name": "stdout",
     "output_type": "stream",
     "text": [
      "생성된 데이터의 개수는 14182 개\n"
     ]
    }
   ],
   "source": [
    "df_result = pd.DataFrame(data_dict)\n",
    "display(df_result.head()) \n",
    "\n",
    "# 최종 결과 데이터셋 txt 파일 저장 \n",
    "df_result.to_csv(\"assignment3.txt\")\n",
    "print(f'생성된 데이터의 개수는 {len(pd.read_csv(\"assignment3.txt\"))} 개')"
   ]
  },
  {
   "cell_type": "markdown",
   "id": "bfaa84d9",
   "metadata": {},
   "source": [
    "__개선해야할 사항__\n",
    "- __`속도 개선`__: __`과제III`__ 은 약 17분이 걸린 것을 보아 속도 면에서 상당히 비효율적이었다는 것을 알 수 있다. (거래대금을 10억으로 설정했을 때 1% 진행에 5분이 걸렸다. 그럼 총 500분이 걸릴 것으로 예상할 수 있다.)\n",
    "\n",
    "\n",
    "- __`# 10일 간의 데이터`__ 부분: `info_list`에 데이터를 추가하는 과정에서 억지로 포맷을 맞추기 위해 불필요한 `for문`이 들어갔다. \n",
    "\n",
    "\n",
    "- __`# D+1 종가 2% 상승 여부`__ 부분: 전 날 대비 2% 상승율을 직접 계산해 주었는데, 이미 변화율이 계산 되어 있는 `change`라는 컬럼을 사용하는 것으로 대체한다. \n",
    "\n",
    "\n",
    "- __`txt 파일 저장`__: `DataFrame`으로 생성을 한 후에 `txt` 파일로 저장했는데, 데이터 생성 시 파일 입출력 `write()`를 사용해서 바로 `txt` 파일로  저장하는 방식으로 변경한다. "
   ]
  },
  {
   "cell_type": "markdown",
   "id": "b8a437ec",
   "metadata": {},
   "source": [
    "-------"
   ]
  },
  {
   "cell_type": "markdown",
   "id": "4fd71bb3",
   "metadata": {},
   "source": [
    "## ✔️ (1) Finance Data Reader를 이용한 주가 데이터셋 - `df2list` \n",
    "첫번째 방법은 `DataFrame` 사용을 지양하고, `python`의 기본 데이터 타입인 `list`로 바꾸어 사용하는 방법이다. 이로써 `column` 중심의 연산을 `row` 중심의 연산으로 바꾸어준다. 이 방법에서는 속도 개선 보다는 `(0)`번 방법의 코드에서 효율적이지 못했던 부분을 고치고 깔끔한 코드로 보완한다. "
   ]
  },
  {
   "cell_type": "markdown",
   "id": "2ff5bb84",
   "metadata": {},
   "source": [
    "__과제 I__"
   ]
  },
  {
   "cell_type": "code",
   "execution_count": 3,
   "id": "7faea8e5",
   "metadata": {},
   "outputs": [
    {
     "data": {
      "text/html": [
       "<div>\n",
       "<style scoped>\n",
       "    .dataframe tbody tr th:only-of-type {\n",
       "        vertical-align: middle;\n",
       "    }\n",
       "\n",
       "    .dataframe tbody tr th {\n",
       "        vertical-align: top;\n",
       "    }\n",
       "\n",
       "    .dataframe thead th {\n",
       "        text-align: right;\n",
       "    }\n",
       "</style>\n",
       "<table border=\"1\" class=\"dataframe\">\n",
       "  <thead>\n",
       "    <tr style=\"text-align: right;\">\n",
       "      <th></th>\n",
       "      <th>회사명</th>\n",
       "      <th>종목코드</th>\n",
       "      <th>상장일</th>\n",
       "    </tr>\n",
       "  </thead>\n",
       "  <tbody>\n",
       "    <tr>\n",
       "      <th>0</th>\n",
       "      <td>DL</td>\n",
       "      <td>000210</td>\n",
       "      <td>1976-02-02</td>\n",
       "    </tr>\n",
       "    <tr>\n",
       "      <th>1</th>\n",
       "      <td>DRB동일</td>\n",
       "      <td>004840</td>\n",
       "      <td>1976-05-21</td>\n",
       "    </tr>\n",
       "  </tbody>\n",
       "</table>\n",
       "</div>"
      ],
      "text/plain": [
       "     회사명    종목코드         상장일\n",
       "0     DL  000210  1976-02-02\n",
       "1  DRB동일  004840  1976-05-21"
      ]
     },
     "metadata": {},
     "output_type": "display_data"
    },
    {
     "name": "stdout",
     "output_type": "stream",
     "text": [
      "[['DL', '000210', '1976-02-02'], ['DRB동일', '004840', '1976-05-21']]\n",
      "\n",
      "걸린 시간:  0.0004284381866455078\n",
      "\n",
      "상장일 2018-01-01 이전 종목코드:  ['000210', '004840', '155660', '078930']\n",
      "\n",
      "총 2507 개의 종목 중 1977 개의 종목 선별\n"
     ]
    }
   ],
   "source": [
    "# (0) 방법에서 사용했던 df_code 데이터 프레임 사용 \n",
    "display(df_code.head(2))\n",
    "\n",
    "# 🌟 dataframe -> list \n",
    "lst_stock = df_code.values.tolist()\n",
    "print(lst_stock[:2])\n",
    "print()\n",
    "\n",
    "\n",
    "lst_code = [] # 선별 된 코드를 담을 리스트 \n",
    "start_time = time.time()\n",
    "for row in lst_stock:\n",
    "    code, date = row[1], row[2]\n",
    "    if date <= '2018-01-01':\n",
    "        lst_code.append(code)\n",
    "print(\"걸린 시간: \", time.time() - start_time)\n",
    "print()\n",
    "\n",
    "        \n",
    "print('상장일 2018-01-01 이전 종목코드: ', lst_code[:4])\n",
    "print()\n",
    "print(f'총 {len(df_code)} 개의 종목 중 {len(lst_code)} 개의 종목 선별')"
   ]
  },
  {
   "cell_type": "markdown",
   "id": "2ed6b641",
   "metadata": {},
   "source": [
    "__과제 II__"
   ]
  },
  {
   "cell_type": "code",
   "execution_count": 4,
   "id": "7630a6f2",
   "metadata": {},
   "outputs": [
    {
     "name": "stderr",
     "output_type": "stream",
     "text": [
      "100%|██████████████████████████████████████████████| 1977/1977 [02:55<00:00, 11.26it/s]"
     ]
    },
    {
     "name": "stdout",
     "output_type": "stream",
     "text": [
      "선별된 날짜는 총 14182개\n"
     ]
    },
    {
     "name": "stderr",
     "output_type": "stream",
     "text": [
      "\n"
     ]
    }
   ],
   "source": [
    "lst_code_date = []\n",
    "for code in tqdm(lst_code):\n",
    "    stock = fdr.DataReader(code, start='20180102', end='20201231')\n",
    "    stock.reset_index(inplace=True)\n",
    "    \n",
    "    # 🌟 dataframe -> list \n",
    "    lst_stock = stock.values.tolist()\n",
    "    \n",
    "    for row in lst_stock: \n",
    "        date, trading_value = row[0], row[4]*row[5]\n",
    "        if trading_value >= 100000000000:  # 거래대금 1000억 이상\n",
    "            lst_code_date.append([code, date.date().strftime(\"%Y%m%d\")])\n",
    "            \n",
    "print(f'선별된 날짜는 총 {len(lst_code_date)}개')"
   ]
  },
  {
   "cell_type": "markdown",
   "id": "9ec47c6b",
   "metadata": {},
   "source": [
    "__과제 III__"
   ]
  },
  {
   "cell_type": "code",
   "execution_count": 12,
   "id": "03f3b726",
   "metadata": {
    "scrolled": true
   },
   "outputs": [
    {
     "name": "stderr",
     "output_type": "stream",
     "text": [
      "100%|████████████████████████████████████████████| 14182/14182 [17:43<00:00, 13.33it/s]"
     ]
    },
    {
     "name": "stdout",
     "output_type": "stream",
     "text": [
      "생성된 데이터의 개수는 13939 개\n"
     ]
    },
    {
     "name": "stderr",
     "output_type": "stream",
     "text": [
      "\n"
     ]
    }
   ],
   "source": [
    "OF = open('assignment3.txt','w')\n",
    "\n",
    "for code, date in tqdm(lst_code_date):\n",
    "    start_date = '20180101' \n",
    "    end_date = '20201231' \n",
    "    stock = fdr.DataReader(code, start = start_date, end = end_date)\n",
    "    stock.reset_index(inplace=True) # 'Date' index -> column \n",
    "    \n",
    "    \n",
    "    # 🌟 dataframe -> list \n",
    "    lst_stock = stock.values.tolist()\n",
    "    \n",
    "    \n",
    "    for idx, row in enumerate(lst_stock): \n",
    "        if (idx < 9) or (idx >= len(lst_stock)-1): # 예외 처리 \n",
    "            continue \n",
    "        \n",
    "        if row[0].date().strftime(\"%Y%m%d\") == date: \n",
    "            \n",
    "            # D-9 ~ D0 데이터만 담기\n",
    "            sub_stock = lst_stock[idx-9:idx+1]\n",
    "            \n",
    "            # 10일 간의 데이터 \n",
    "            lst_info = []\n",
    "            for row2 in sub_stock:\n",
    "                lst_prices, trading_value = row2[1:5], row[4]*row[5]\n",
    "                lst_info += lst_prices + [trading_value]\n",
    "                \n",
    "            info = ','.join(map(str, lst_info))\n",
    "            \n",
    "            # D+1 종가 2% 상승 여부 (up)\n",
    "            change = lst_stock[idx+1][6]\n",
    "            label = int(change >= 0.02)\n",
    "            \n",
    "            # 저장 \n",
    "            OF.write(f'{code}\\t{date}\\t{lst_info}\\t{label}\\n')\n",
    "            \n",
    "OF.close()\n",
    "\n",
    "print(f'생성된 데이터의 개수는 {len(pd.read_csv(\"assignment3.txt\"))} 개')"
   ]
  },
  {
   "cell_type": "markdown",
   "id": "7a66e4f2",
   "metadata": {},
   "source": [
    "- `OF.write()`를 사용함으로써 블필요한 `DataFrame` 을 생성하지 않는다.\n",
    "\n",
    "\n",
    "- __\\# 10일간의 데이터__ 부분은 `join()` 함수를 사용하여 불필요한 for문 사용을 줄였고, __\\# D+1 종가 2% 상승 여부 (up)__ 부분은 전날 대비 종가 변화율을 계산하지 않고 `change` 컬럼을 활용하는 것으로 바꾸었다. \n",
    "\n",
    "\n",
    "\n",
    "- __`속도에 대한 문제점`__ : 전 보다 깔끔한 코드로 보완이 되었지만, 아직 속도에 대한 문제점이 남아있다. 속도를 개선하기 위해서는 `fdr` 라이브러리를 최소한으로 사용해야 한다. 이를 해결하기 위해 `dictionary`를 사용하는 방법으로 넘어간다. "
   ]
  },
  {
   "cell_type": "markdown",
   "id": "7d0bea98",
   "metadata": {},
   "source": [
    "------------"
   ]
  },
  {
   "cell_type": "markdown",
   "id": "795dd357",
   "metadata": {},
   "source": [
    "## ✔️ (2) Finance Data Reader를 이용한 주가 데이터셋 - `dictionary` \n"
   ]
  },
  {
   "cell_type": "markdown",
   "id": "c859c853",
   "metadata": {},
   "source": [
    "`dictionary`를 사용하는 방법은 __`과제III`__ 의 속도를 개선한다. `fdr` 라이브러리를 최소한으로 사용하고, `for`문을 최대한 줄인다. 현재 문제점은 날짜를 기준으로 `for`문이 돌아가기 때문에 같은 데이터(같은 종목)가 여러번 불러와지는 경우가 다수 존재한다는 것이다. 따라서 __`과제II`__ 에서 `code`별 `D0` 날짜 리스트를 `dictionary` 타입으로 생성하고, __`과제III`__ 에서 `code` 당 한번만 `fdr` 라이브러리를 사용하도록 바꾸어 준다. "
   ]
  },
  {
   "cell_type": "markdown",
   "id": "2aedd079",
   "metadata": {},
   "source": [
    "__과제 I__"
   ]
  },
  {
   "cell_type": "markdown",
   "id": "5aa1afd5",
   "metadata": {},
   "source": [
    "__`과제I`__ 은 앞의 방법과 같으므로 생략한다. "
   ]
  },
  {
   "cell_type": "code",
   "execution_count": 14,
   "id": "b4b72e99",
   "metadata": {},
   "outputs": [
    {
     "name": "stdout",
     "output_type": "stream",
     "text": [
      "상장일 2018-01-01 이전 종목코드:  ['000210', '004840', '155660', '078930']\n",
      "\n",
      "총 2507 개의 종목 중 1977 개의 종목 선별\n"
     ]
    }
   ],
   "source": [
    "print('상장일 2018-01-01 이전 종목코드: ', lst_code[:4])\n",
    "print()\n",
    "print(f'총 {len(df_code)} 개의 종목 중 {len(lst_code)} 개의 종목 선별')"
   ]
  },
  {
   "cell_type": "markdown",
   "id": "613d29c8",
   "metadata": {},
   "source": [
    "__과제 II__"
   ]
  },
  {
   "cell_type": "code",
   "execution_count": 15,
   "id": "2b833e3c",
   "metadata": {},
   "outputs": [
    {
     "name": "stderr",
     "output_type": "stream",
     "text": [
      "100%|██████████████████████████████████████████████| 1977/1977 [02:42<00:00, 12.14it/s]"
     ]
    },
    {
     "name": "stdout",
     "output_type": "stream",
     "text": [
      "총 1977 개의 종목 중 799 개의 종목 사용\n"
     ]
    },
    {
     "name": "stderr",
     "output_type": "stream",
     "text": [
      "\n"
     ]
    }
   ],
   "source": [
    "dict_code2date = {}\n",
    "for code in tqdm(lst_code): \n",
    "    start_date = '20180102'\n",
    "    end_date = '20201231'\n",
    "    stock = fdr.DataReader(code, start = start_date, end = end_date)\n",
    "    stock.reset_index(inplace=True)    \n",
    "    \n",
    "    # 🌟 dataframe -> list     \n",
    "    lst_stock = stock.values.tolist()\n",
    "    \n",
    "    for row in lst_stock: \n",
    "        date, trading_value = row[0], row[4]*row[5]\n",
    "        if trading_value >= 100000000000:\n",
    "            if code not in dict_code2date.keys():\n",
    "                dict_code2date[code] = [date.date().strftime(\"%Y%m%d\")]\n",
    "            else:\n",
    "                dict_code2date[code].append(date.date().strftime(\"%Y%m%d\"))\n",
    "\n",
    "print(f'총 {len(lst_code)} 개의 종목 중 {len(dict_code2date)} 개의 종목 사용')"
   ]
  },
  {
   "cell_type": "markdown",
   "id": "00055a5f",
   "metadata": {},
   "source": [
    "__과제 III__"
   ]
  },
  {
   "cell_type": "code",
   "execution_count": 19,
   "id": "c43fc2cf",
   "metadata": {},
   "outputs": [
    {
     "name": "stderr",
     "output_type": "stream",
     "text": [
      "100%|████████████████████████████████████████████████| 799/799 [01:07<00:00, 11.84it/s]"
     ]
    },
    {
     "name": "stdout",
     "output_type": "stream",
     "text": [
      "생성된 데이터의 개수는 13939 개\n"
     ]
    },
    {
     "name": "stderr",
     "output_type": "stream",
     "text": [
      "\n"
     ]
    }
   ],
   "source": [
    "OF = open('assignment3.txt', 'w')\n",
    "for code in tqdm(dict_code2date): \n",
    "    # code의 stock \n",
    "    start_date = '20180101' \n",
    "    end_date = '20201231' \n",
    "    stock = fdr.DataReader(code, start = start_date, end = end_date)\n",
    "    stock.reset_index(inplace=True)\n",
    "    \n",
    "    # 🌟 dataframe -> list     \n",
    "    lst_stock = stock.values.tolist()  \n",
    "       \n",
    "    for idx, row in enumerate(lst_stock):   \n",
    "        if (idx < 9) or (idx >= len(lst_stock)-1): # 예외 처리 \n",
    "            continue \n",
    "        \n",
    "        date = row[0].date().strftime(\"%Y%m%d\") \n",
    "        if date not in dict_code2date[code]: # 조건에 부합하는 날짜 (D0 날짜)를 발견할 때까지 continue\n",
    "            continue \n",
    "\n",
    "        # D-9 ~ D0 데이터만 담기\n",
    "        sub_stock = lst_stock[idx-9:idx+1] \n",
    "        \n",
    "        # 10일간의 데이터 \n",
    "        lst_info = []\n",
    "        for row2 in sub_stock:\n",
    "            lst_prices, trading_value = row2[1:5], row2[4]*row2[5]\n",
    "            lst_info += lst_prices + [trading_value]\n",
    "        info = ','.join(map(str, lst_info))\n",
    "\n",
    "        # D+1 종가 2% 상승 여부 \n",
    "        label = int(lst_stock[idx+1][6] >= 0.02)\n",
    "\n",
    "        # 저장 \n",
    "        OF.write(f'{code}\\t{date}\\t{info}\\t{label}\\n')\n",
    "                         \n",
    "OF.close()   \n",
    "\n",
    "print(f'생성된 데이터의 개수는 {len(pd.read_csv(\"assignment3.txt\"))} 개')"
   ]
  },
  {
   "cell_type": "markdown",
   "id": "d86d84c7",
   "metadata": {},
   "source": [
    "약 17분이 걸리던 시간이 1분으로 줄어들었다. "
   ]
  },
  {
   "cell_type": "markdown",
   "id": "576bf84e",
   "metadata": {},
   "source": [
    "---------"
   ]
  },
  {
   "cell_type": "markdown",
   "id": "58b49f7d",
   "metadata": {},
   "source": [
    "## ✔️ (3) Finance Data Reader를 이용한 주가 데이터셋 - `MultiProcessing` \n"
   ]
  },
  {
   "attachments": {},
   "cell_type": "markdown",
   "id": "0ffe5b3b",
   "metadata": {},
   "source": [
    "- `multi processing(다중 처리)`: 컴퓨터 시스템 한 대에 두개 이상의 중앙 처리 장치 (CPU) 를 이용하여 병렬처리하는 것 \n",
    "\n",
    "\n",
    "- `python multi processing` 문서: [https://docs.python.org/ko/3/library/multiprocessing.html](https://docs.python.org/ko/3/library/multiprocessing.html).\n",
    "\n",
    "\n",
    "`python`은 `multiprocessing` 라이브러리를 통해 다중 처리를 지원한다. 여러 개의 `코어`를 연산에 사용함으로써 많은 작업을 빠른 시간에 처리해줄 수 있다는 장점이 있다. \n",
    "\n",
    "\n",
    "\n",
    "![image.png](./ghtop_images/multi_processing.png)\n",
    "[ `core=10`으로 설정하여 multi processing을 수행할 때 코어 사용 ]"
   ]
  },
  {
   "cell_type": "code",
   "execution_count": 20,
   "id": "de5c208b",
   "metadata": {},
   "outputs": [],
   "source": [
    "# MultiProcessing을 위한 library import \n",
    "import time, os\n",
    "from multiprocessing import Pool"
   ]
  },
  {
   "cell_type": "markdown",
   "id": "b891fde4",
   "metadata": {},
   "source": [
    "__과제 I__"
   ]
  },
  {
   "cell_type": "markdown",
   "id": "3bbb52e8",
   "metadata": {},
   "source": [
    "__`과제I`__ 은 앞의 방법과 같으므로 생략한다. "
   ]
  },
  {
   "cell_type": "code",
   "execution_count": 21,
   "id": "48fb2036",
   "metadata": {},
   "outputs": [
    {
     "name": "stdout",
     "output_type": "stream",
     "text": [
      "상장일 2018-01-01 이전 종목코드:  ['000210', '004840', '155660', '078930']\n",
      "\n",
      "총 2507 개의 종목 중 1977 개의 종목 선별\n"
     ]
    }
   ],
   "source": [
    "print('상장일 2018-01-01 이전 종목코드: ', lst_code[:4])\n",
    "print()\n",
    "print(f'총 {len(df_code)} 개의 종목 중 {len(lst_code)} 개의 종목 선별')"
   ]
  },
  {
   "cell_type": "markdown",
   "id": "c833b3d5",
   "metadata": {},
   "source": [
    "__과제 II__"
   ]
  },
  {
   "cell_type": "markdown",
   "id": "50c320a1",
   "metadata": {},
   "source": [
    "- `multi processing`을 위한 함수 정의 "
   ]
  },
  {
   "cell_type": "code",
   "execution_count": 22,
   "id": "ee5b9f04",
   "metadata": {},
   "outputs": [],
   "source": [
    "def make_lst_result(code): \n",
    "    start_date = '20180101'\n",
    "    end_date = '20201231'\n",
    "    \n",
    "    lst_date = []\n",
    "    \n",
    "    stock = fdr.DataReader(code, start = start_date, end = end_date)\n",
    "    stock.reset_index(inplace=True)\n",
    "  \n",
    "    # 🌟 dataframe -> list\n",
    "    lst_stock = stock.values.tolist()\n",
    "    \n",
    "    for row in lst_stock: \n",
    "        if row[4] * row[5] >= 100000000000: \n",
    "            lst_date.append(row[0].date().strftime(\"%Y%m%d\"))\n",
    "        \n",
    "    return [code, lst_date]"
   ]
  },
  {
   "cell_type": "markdown",
   "id": "2286fbac",
   "metadata": {},
   "source": [
    "- `multi processing` 수행"
   ]
  },
  {
   "cell_type": "code",
   "execution_count": 23,
   "id": "7ec3dc73",
   "metadata": {},
   "outputs": [
    {
     "name": "stdout",
     "output_type": "stream",
     "text": [
      "17.97966194152832\n"
     ]
    }
   ],
   "source": [
    "start_time = time.time()\n",
    "num_cores = 10\n",
    "pool = Pool(num_cores)\n",
    "lst_code_date = pool.map(make_lst_result, lst_code)\n",
    "pool.close()\n",
    "pool.join()\n",
    "print(time.time() - start_time) "
   ]
  },
  {
   "cell_type": "markdown",
   "id": "091aa4f5",
   "metadata": {},
   "source": [
    "앞서 약 2분 40초 가 걸렸던 __`과제II`__ 를 `multi processing`을 사용하여 17초대로 단축시켰다. "
   ]
  },
  {
   "cell_type": "markdown",
   "id": "c5ed36ff",
   "metadata": {},
   "source": [
    "- `dictionary` 생성 "
   ]
  },
  {
   "cell_type": "code",
   "execution_count": 24,
   "id": "d1e9bd8d",
   "metadata": {},
   "outputs": [
    {
     "name": "stderr",
     "output_type": "stream",
     "text": [
      "100%|█████████████████████████████████████████| 1977/1977 [00:00<00:00, 1610124.08it/s]"
     ]
    },
    {
     "name": "stdout",
     "output_type": "stream",
     "text": [
      "총 1977 개의 종목 중 799 개의 종목 사용\n"
     ]
    },
    {
     "name": "stderr",
     "output_type": "stream",
     "text": [
      "\n"
     ]
    }
   ],
   "source": [
    "dict_code2date = {}\n",
    "\n",
    "for code, lst_date  in tqdm(lst_code_date):\n",
    "    if lst_date == []:\n",
    "        continue\n",
    "    dict_code2date[code] = lst_date\n",
    "            \n",
    "print(f'총 {len(lst_code)} 개의 종목 중 {len(dict_code2date)} 개의 종목 사용')"
   ]
  },
  {
   "cell_type": "markdown",
   "id": "8e295cb3",
   "metadata": {},
   "source": [
    "__과제 III__"
   ]
  },
  {
   "cell_type": "markdown",
   "id": "f3f0b074",
   "metadata": {},
   "source": [
    "- `multi processing`을 위한 함수 정의 "
   ]
  },
  {
   "cell_type": "code",
   "execution_count": 25,
   "id": "32a3db51",
   "metadata": {},
   "outputs": [],
   "source": [
    "def make_lst_result2(code): \n",
    "    # code의 stock \n",
    "    start_date = '20180101' \n",
    "    end_date = '20201231' \n",
    "    stock = fdr.DataReader(code, start = start_date, end = end_date)\n",
    "    stock.reset_index(inplace=True)\n",
    "    \n",
    "    # 🌟 dataframe -> list     \n",
    "    lst_stock = stock.values.tolist()  \n",
    "       \n",
    "    lst_result = []\n",
    "        \n",
    "    for idx, row in enumerate(lst_stock): \n",
    "        \n",
    "        if (idx < 9) or (idx >= len(lst_stock)-1): # 예외 처리 \n",
    "            continue \n",
    "            \n",
    "        date = row[0].date().strftime(\"%Y%m%d\") \n",
    "        if date not in dict_code2date[code]: # 조건에 부합하는 날짜 (D0 날짜)를 발견할 때까지 continue\n",
    "            continue \n",
    "\n",
    "        # D-9 ~ D0 데이터만 담기\n",
    "        sub_stock = lst_stock[idx-9:idx+1] \n",
    "        \n",
    "        # 10일간의 데이터 \n",
    "        lst_info = []\n",
    "        for row2 in sub_stock:\n",
    "            lst_prices, trading_value = row2[1:5], row2[4]*row2[5]\n",
    "            lst_info += lst_prices + [trading_value]\n",
    "        info = ','.join(map(str, lst_info))\n",
    "\n",
    "        # D+1 종가 2% 상승 여부 \n",
    "        label = int(lst_stock[idx+1][6] >= 0.02)\n",
    "        \n",
    "        lst_result.append([code, date, info, label])\n",
    "        \n",
    "    return lst_result"
   ]
  },
  {
   "cell_type": "markdown",
   "id": "e5e308d8",
   "metadata": {},
   "source": [
    "- `multi processing` 수행"
   ]
  },
  {
   "cell_type": "code",
   "execution_count": 26,
   "id": "27e30925",
   "metadata": {
    "scrolled": true
   },
   "outputs": [
    {
     "name": "stdout",
     "output_type": "stream",
     "text": [
      "8.186521768569946\n"
     ]
    }
   ],
   "source": [
    "start_time = time.time()\n",
    "num_cores = 10\n",
    "pool = Pool(num_cores)\n",
    "lst_data = pool.map(make_lst_result2, dict_code2date.keys())\n",
    "pool.close()\n",
    "pool.join()\n",
    "print(time.time() - start_time) "
   ]
  },
  {
   "cell_type": "markdown",
   "id": "ab038d5b",
   "metadata": {},
   "source": [
    "앞서 진행했던 방법에서 1분이 걸렸던 작업이 `multi processing`을 통하여 8초로 줄어들었다."
   ]
  },
  {
   "cell_type": "markdown",
   "id": "edf5f217",
   "metadata": {},
   "source": [
    "- `txt` 파일 생성 "
   ]
  },
  {
   "cell_type": "code",
   "execution_count": 28,
   "id": "08b7feac",
   "metadata": {},
   "outputs": [
    {
     "name": "stdout",
     "output_type": "stream",
     "text": [
      "생성된 데이터의 개수는 13939 개\n"
     ]
    }
   ],
   "source": [
    "OF = open(\"assignment3_multi_processing.txt\", 'w')\n",
    "\n",
    "for row in lst_data: \n",
    "    for num in range(len(row)): \n",
    "        OF.write('\\t'.join(map(str, row[num])) + '\\n')\n",
    "        \n",
    "OF.close()\n",
    "\n",
    "print(f'생성된 데이터의 개수는 {len(pd.read_csv(\"assignment3_multi_processing.txt\"))} 개')"
   ]
  },
  {
   "cell_type": "markdown",
   "id": "ff2bab4a",
   "metadata": {},
   "source": [
    "-----------"
   ]
  },
  {
   "cell_type": "markdown",
   "id": "841db140",
   "metadata": {},
   "source": [
    "### ✔️ __(4)__ Finance Data Reader를 이용한 주가 데이터셋 - `MySQL`"
   ]
  },
  {
   "cell_type": "markdown",
   "id": "3312964a",
   "metadata": {},
   "source": [
    "4번째 방법은 `MySQL`을 사용한다. 외부 데이터를 불러오지 않아도 되고, 서버 `DB`에 저장된 데이터를 불러오는 것이므로 `multi processing`을 사용하지 않고도 빠른 속도로 데이터셋을 생성할 수 있다. "
   ]
  },
  {
   "cell_type": "markdown",
   "id": "a152d279",
   "metadata": {},
   "source": [
    "__과제 I__"
   ]
  },
  {
   "cell_type": "markdown",
   "id": "e318adf0",
   "metadata": {},
   "source": [
    "최종적으로 머신러닝 분석에 사용할 데이터셋은 코스피, 코스닥 시장에 해당하는 종목들만을 사용한다. 현재 `db`에 저장되어 있는 데이터도 코스피, 코스닥 시장에 해당하는 종목들이 입력되어 있으며, 해당 종목들을 추린 `code_list.txt`에서 종목들을 불러와 `lst_code`를 사용한다. "
   ]
  },
  {
   "cell_type": "code",
   "execution_count": 51,
   "id": "d666cbb8",
   "metadata": {},
   "outputs": [
    {
     "name": "stdout",
     "output_type": "stream",
     "text": [
      "총 2507 개의 종목 중 1561 개의 종목 선별\n"
     ]
    }
   ],
   "source": [
    "IF = open('../data/code_list.txt')\n",
    "lst_code = IF.readlines()\n",
    "\n",
    "print(f'총 {len(df_code)} 개의 종목 중 {len(lst_code)} 개의 종목 선별')"
   ]
  },
  {
   "cell_type": "code",
   "execution_count": 13,
   "id": "80569d1b",
   "metadata": {},
   "outputs": [],
   "source": [
    "# pymysql 설치\n",
    "# ! pip install pymysql\n",
    "\n",
    "import pymysql \n",
    "from sqlalchemy import create_engine"
   ]
  },
  {
   "cell_type": "markdown",
   "id": "bcfec783",
   "metadata": {},
   "source": [
    "- __`MySQL` 데이터 저장__ (`dataframe` -> `sql`) <br>\n",
    "\n",
    "\n",
    "`code` 별로 다른 테이블에 저장한다. "
   ]
  },
  {
   "cell_type": "code",
   "execution_count": null,
   "id": "fba34668",
   "metadata": {},
   "outputs": [],
   "source": [
    "db_connection_str = 'mysql+pymysql://[db username]:[db password]@[host address]/[db name]' \n",
    "db_connection = create_engine(db_connection_str)\n",
    "conn = db_connection.connect()\n",
    "\n",
    "for code in tqdm(lst_code): \n",
    "    start_date = '20170101'\n",
    "    end_date = '20211231'\n",
    "    stock = fdr.DataReader(code, start = start_date, end = end_date)\n",
    "    stock = stock.reset_index()\n",
    "    stock = stock[['Date', 'Open', 'High', 'Low', 'Close', 'Volume', 'Change']]\n",
    "    stock.to_sql(name=f'stock_{code}', con=db_connection, if_exists='fail', index=False)"
   ]
  },
  {
   "cell_type": "markdown",
   "id": "40b99b22",
   "metadata": {},
   "source": [
    "- __`MySQL` 에서 데이터 불러온 후 데이터셋 생성__ "
   ]
  },
  {
   "cell_type": "code",
   "execution_count": null,
   "id": "22494890",
   "metadata": {},
   "outputs": [],
   "source": [
    "db_dsml = pymysql.connect(\n",
    "    host = 'localhost', \n",
    "    port = 3306, \n",
    "    user = '[db username]', \n",
    "    passwd = '[db password]', \n",
    "    db = '[db name]', \n",
    "    charset = 'utf8'\n",
    ")\n",
    "cursor = db_dsml.cursor()"
   ]
  },
  {
   "cell_type": "markdown",
   "id": "26213265",
   "metadata": {},
   "source": [
    "__과제 II__"
   ]
  },
  {
   "cell_type": "code",
   "execution_count": 49,
   "id": "cadd8da3",
   "metadata": {},
   "outputs": [
    {
     "name": "stderr",
     "output_type": "stream",
     "text": [
      "100%|██████████████████████████████████████████████| 1561/1561 [00:22<00:00, 69.07it/s]"
     ]
    },
    {
     "name": "stdout",
     "output_type": "stream",
     "text": [
      "총 1561 개의 종목 중 679 개의 종목 사용\n"
     ]
    },
    {
     "name": "stderr",
     "output_type": "stream",
     "text": [
      "\n"
     ]
    }
   ],
   "source": [
    "dict_code2date = {}\n",
    "for code in tqdm(lst_code): \n",
    "    code = code.strip()\n",
    "    sql_query = '''\n",
    "                SELECT *\n",
    "                FROM stock_{}\n",
    "                WHERE Date BETWEEN '2018-01-01' AND '2020-12-31'\n",
    "                '''.format(code)\n",
    "    stock = pd.read_sql(sql = sql_query, con = db_dsml)   \n",
    "    \n",
    "    # 🌟 dataframe -> list     \n",
    "    lst_stock = stock.values.tolist()\n",
    "    \n",
    "    for row in lst_stock: \n",
    "        date, trading_value = row[0], row[4]*row[5]\n",
    "        if trading_value >= 100000000000:\n",
    "            if code not in dict_code2date.keys():\n",
    "                dict_code2date[code] = [date.date().strftime(\"%Y%m%d\")]\n",
    "            else:\n",
    "                dict_code2date[code].append(date.date().strftime(\"%Y%m%d\"))\n",
    "\n",
    "print(f'총 {len(lst_code)} 개의 종목 중 {len(dict_code2date)} 개의 종목 사용')"
   ]
  },
  {
   "cell_type": "markdown",
   "id": "be1dec8a",
   "metadata": {},
   "source": [
    "__과제 III__ "
   ]
  },
  {
   "cell_type": "code",
   "execution_count": 57,
   "id": "bb64c0e0",
   "metadata": {},
   "outputs": [
    {
     "name": "stderr",
     "output_type": "stream",
     "text": [
      "100%|████████████████████████████████████████████████| 679/679 [00:11<00:00, 61.46it/s]"
     ]
    },
    {
     "name": "stdout",
     "output_type": "stream",
     "text": [
      "생성된 데이터의 개수는 11934 개\n"
     ]
    },
    {
     "name": "stderr",
     "output_type": "stream",
     "text": [
      "\n"
     ]
    }
   ],
   "source": [
    "OF = open('assignment3_sql.txt', 'w')\n",
    "for code in tqdm(dict_code2date): \n",
    "    code = code.strip()\n",
    "    sql_query = '''\n",
    "                SELECT *\n",
    "                FROM stock_{}\n",
    "                WHERE Date BETWEEN '2018-01-01' AND '2020-12-31'\n",
    "                '''.format(code)\n",
    "    stock = pd.read_sql(sql = sql_query, con = db_dsml)  \n",
    "    \n",
    "    # 🌟 dataframe -> list     \n",
    "    lst_stock = stock.values.tolist()  \n",
    "       \n",
    "    for idx, row in enumerate(lst_stock):   \n",
    "        if (idx < 9) or (idx >= len(lst_stock)-1): # 예외 처리 \n",
    "            continue \n",
    "        \n",
    "        date = row[0].date().strftime(\"%Y%m%d\") \n",
    "        if date not in dict_code2date[code]: # 조건에 부합하는 날짜 (D0 날짜)를 발견할 때까지 continue\n",
    "            continue \n",
    "\n",
    "        # D-9 ~ D0 데이터만 담기\n",
    "        sub_stock = lst_stock[idx-9:idx+1] \n",
    "        \n",
    "        # 10일간의 데이터 \n",
    "        lst_info = []\n",
    "        for row2 in sub_stock:\n",
    "            lst_prices, trading_value = row2[1:5], row2[4]*row2[5]\n",
    "            lst_info += lst_prices + [trading_value]\n",
    "        info = ','.join(map(str, lst_info))\n",
    "\n",
    "        # D+1 종가 2% 상승 여부 \n",
    "        label = int(lst_stock[idx+1][6] >= 0.02)\n",
    "\n",
    "        # 저장 \n",
    "        OF.write(f'{code}\\t{date}\\t{info}\\t{label}\\n')\n",
    "                         \n",
    "OF.close()   \n",
    "\n",
    "print(f'생성된 데이터의 개수는 {len(pd.read_csv(\"assignment3_sql.txt\"))} 개')"
   ]
  },
  {
   "cell_type": "markdown",
   "id": "394069a0",
   "metadata": {},
   "source": [
    "----------"
   ]
  },
  {
   "cell_type": "markdown",
   "id": "7c28bf83",
   "metadata": {},
   "source": [
    "### ✔️ __(5)__ 최종 머신러닝 데이터셋 \n",
    "최종적으로 생성된 머신러닝 데이터셋의 형태를 확인한다. "
   ]
  },
  {
   "cell_type": "code",
   "execution_count": 63,
   "id": "63e4fcaf",
   "metadata": {},
   "outputs": [],
   "source": [
    "IF=open(\"assignment3_sql.txt\",'r')\n",
    "lst_code_date=[]\n",
    "trainX=[]\n",
    "trainY=[]\n",
    "for line in IF:\n",
    "    code, date, x, y = line.strip().split(\"\\t\")\n",
    "    lst_code_date.append([code, date])\n",
    "    trainX.append(list(map(int, x.split(\",\"))))\n",
    "    trainY.append(int(y))\n",
    "trainX=pd.DataFrame(trainX)\n",
    "trainY=pd.DataFrame(trainY)"
   ]
  },
  {
   "cell_type": "code",
   "execution_count": 70,
   "id": "09b1d34e",
   "metadata": {},
   "outputs": [
    {
     "name": "stdout",
     "output_type": "stream",
     "text": [
      "===== trainX =====\n",
      "trainX shape: (11935, 50)\n"
     ]
    },
    {
     "data": {
      "text/html": [
       "<div>\n",
       "<style scoped>\n",
       "    .dataframe tbody tr th:only-of-type {\n",
       "        vertical-align: middle;\n",
       "    }\n",
       "\n",
       "    .dataframe tbody tr th {\n",
       "        vertical-align: top;\n",
       "    }\n",
       "\n",
       "    .dataframe thead th {\n",
       "        text-align: right;\n",
       "    }\n",
       "</style>\n",
       "<table border=\"1\" class=\"dataframe\">\n",
       "  <thead>\n",
       "    <tr style=\"text-align: right;\">\n",
       "      <th></th>\n",
       "      <th>0</th>\n",
       "      <th>1</th>\n",
       "      <th>2</th>\n",
       "      <th>3</th>\n",
       "      <th>4</th>\n",
       "      <th>5</th>\n",
       "      <th>6</th>\n",
       "      <th>7</th>\n",
       "      <th>8</th>\n",
       "      <th>9</th>\n",
       "      <th>...</th>\n",
       "      <th>40</th>\n",
       "      <th>41</th>\n",
       "      <th>42</th>\n",
       "      <th>43</th>\n",
       "      <th>44</th>\n",
       "      <th>45</th>\n",
       "      <th>46</th>\n",
       "      <th>47</th>\n",
       "      <th>48</th>\n",
       "      <th>49</th>\n",
       "    </tr>\n",
       "  </thead>\n",
       "  <tbody>\n",
       "    <tr>\n",
       "      <th>0</th>\n",
       "      <td>10250</td>\n",
       "      <td>12050</td>\n",
       "      <td>10150</td>\n",
       "      <td>11800</td>\n",
       "      <td>307823874200</td>\n",
       "      <td>11950</td>\n",
       "      <td>12450</td>\n",
       "      <td>10900</td>\n",
       "      <td>11750</td>\n",
       "      <td>240410569500</td>\n",
       "      <td>...</td>\n",
       "      <td>15300</td>\n",
       "      <td>15400</td>\n",
       "      <td>12650</td>\n",
       "      <td>13700</td>\n",
       "      <td>789063638200</td>\n",
       "      <td>13700</td>\n",
       "      <td>16100</td>\n",
       "      <td>13400</td>\n",
       "      <td>15400</td>\n",
       "      <td>897154258000</td>\n",
       "    </tr>\n",
       "    <tr>\n",
       "      <th>1</th>\n",
       "      <td>11950</td>\n",
       "      <td>12450</td>\n",
       "      <td>10900</td>\n",
       "      <td>11750</td>\n",
       "      <td>240410569500</td>\n",
       "      <td>11850</td>\n",
       "      <td>14150</td>\n",
       "      <td>11600</td>\n",
       "      <td>12600</td>\n",
       "      <td>764364560400</td>\n",
       "      <td>...</td>\n",
       "      <td>13700</td>\n",
       "      <td>16100</td>\n",
       "      <td>13400</td>\n",
       "      <td>15400</td>\n",
       "      <td>897154258000</td>\n",
       "      <td>14700</td>\n",
       "      <td>15500</td>\n",
       "      <td>14000</td>\n",
       "      <td>14350</td>\n",
       "      <td>277027065700</td>\n",
       "    </tr>\n",
       "    <tr>\n",
       "      <th>2</th>\n",
       "      <td>11850</td>\n",
       "      <td>14150</td>\n",
       "      <td>11600</td>\n",
       "      <td>12600</td>\n",
       "      <td>764364560400</td>\n",
       "      <td>12800</td>\n",
       "      <td>13200</td>\n",
       "      <td>12000</td>\n",
       "      <td>12200</td>\n",
       "      <td>170010147600</td>\n",
       "      <td>...</td>\n",
       "      <td>14700</td>\n",
       "      <td>15500</td>\n",
       "      <td>14000</td>\n",
       "      <td>14350</td>\n",
       "      <td>277027065700</td>\n",
       "      <td>13050</td>\n",
       "      <td>13300</td>\n",
       "      <td>11650</td>\n",
       "      <td>11650</td>\n",
       "      <td>231873876050</td>\n",
       "    </tr>\n",
       "    <tr>\n",
       "      <th>3</th>\n",
       "      <td>12800</td>\n",
       "      <td>13200</td>\n",
       "      <td>12000</td>\n",
       "      <td>12200</td>\n",
       "      <td>170010147600</td>\n",
       "      <td>12450</td>\n",
       "      <td>13400</td>\n",
       "      <td>12350</td>\n",
       "      <td>12850</td>\n",
       "      <td>211661434950</td>\n",
       "      <td>...</td>\n",
       "      <td>13050</td>\n",
       "      <td>13300</td>\n",
       "      <td>11650</td>\n",
       "      <td>11650</td>\n",
       "      <td>231873876050</td>\n",
       "      <td>12200</td>\n",
       "      <td>13150</td>\n",
       "      <td>11600</td>\n",
       "      <td>12200</td>\n",
       "      <td>222393934200</td>\n",
       "    </tr>\n",
       "    <tr>\n",
       "      <th>4</th>\n",
       "      <td>12450</td>\n",
       "      <td>13400</td>\n",
       "      <td>12350</td>\n",
       "      <td>12850</td>\n",
       "      <td>211661434950</td>\n",
       "      <td>12800</td>\n",
       "      <td>12950</td>\n",
       "      <td>11300</td>\n",
       "      <td>11700</td>\n",
       "      <td>91801277100</td>\n",
       "      <td>...</td>\n",
       "      <td>12200</td>\n",
       "      <td>13150</td>\n",
       "      <td>11600</td>\n",
       "      <td>12200</td>\n",
       "      <td>222393934200</td>\n",
       "      <td>12200</td>\n",
       "      <td>13750</td>\n",
       "      <td>12100</td>\n",
       "      <td>12350</td>\n",
       "      <td>256196958550</td>\n",
       "    </tr>\n",
       "  </tbody>\n",
       "</table>\n",
       "<p>5 rows × 50 columns</p>\n",
       "</div>"
      ],
      "text/plain": [
       "      0      1      2      3             4      5      6      7      8   \\\n",
       "0  10250  12050  10150  11800  307823874200  11950  12450  10900  11750   \n",
       "1  11950  12450  10900  11750  240410569500  11850  14150  11600  12600   \n",
       "2  11850  14150  11600  12600  764364560400  12800  13200  12000  12200   \n",
       "3  12800  13200  12000  12200  170010147600  12450  13400  12350  12850   \n",
       "4  12450  13400  12350  12850  211661434950  12800  12950  11300  11700   \n",
       "\n",
       "             9   ...     40     41     42     43            44     45     46  \\\n",
       "0  240410569500  ...  15300  15400  12650  13700  789063638200  13700  16100   \n",
       "1  764364560400  ...  13700  16100  13400  15400  897154258000  14700  15500   \n",
       "2  170010147600  ...  14700  15500  14000  14350  277027065700  13050  13300   \n",
       "3  211661434950  ...  13050  13300  11650  11650  231873876050  12200  13150   \n",
       "4   91801277100  ...  12200  13150  11600  12200  222393934200  12200  13750   \n",
       "\n",
       "      47     48            49  \n",
       "0  13400  15400  897154258000  \n",
       "1  14000  14350  277027065700  \n",
       "2  11650  11650  231873876050  \n",
       "3  11600  12200  222393934200  \n",
       "4  12100  12350  256196958550  \n",
       "\n",
       "[5 rows x 50 columns]"
      ]
     },
     "metadata": {},
     "output_type": "display_data"
    },
    {
     "name": "stdout",
     "output_type": "stream",
     "text": [
      "\n",
      "===== trainY =====\n",
      "trainY shape: (11935, 1)\n"
     ]
    },
    {
     "data": {
      "text/html": [
       "<div>\n",
       "<style scoped>\n",
       "    .dataframe tbody tr th:only-of-type {\n",
       "        vertical-align: middle;\n",
       "    }\n",
       "\n",
       "    .dataframe tbody tr th {\n",
       "        vertical-align: top;\n",
       "    }\n",
       "\n",
       "    .dataframe thead th {\n",
       "        text-align: right;\n",
       "    }\n",
       "</style>\n",
       "<table border=\"1\" class=\"dataframe\">\n",
       "  <thead>\n",
       "    <tr style=\"text-align: right;\">\n",
       "      <th></th>\n",
       "      <th>0</th>\n",
       "    </tr>\n",
       "  </thead>\n",
       "  <tbody>\n",
       "    <tr>\n",
       "      <th>0</th>\n",
       "      <td>0</td>\n",
       "    </tr>\n",
       "    <tr>\n",
       "      <th>1</th>\n",
       "      <td>0</td>\n",
       "    </tr>\n",
       "    <tr>\n",
       "      <th>2</th>\n",
       "      <td>1</td>\n",
       "    </tr>\n",
       "    <tr>\n",
       "      <th>3</th>\n",
       "      <td>0</td>\n",
       "    </tr>\n",
       "    <tr>\n",
       "      <th>4</th>\n",
       "      <td>1</td>\n",
       "    </tr>\n",
       "  </tbody>\n",
       "</table>\n",
       "</div>"
      ],
      "text/plain": [
       "   0\n",
       "0  0\n",
       "1  0\n",
       "2  1\n",
       "3  0\n",
       "4  1"
      ]
     },
     "metadata": {},
     "output_type": "display_data"
    }
   ],
   "source": [
    "print(\"===== trainX =====\")\n",
    "print(\"trainX shape:\", trainX.shape)\n",
    "display(trainX.head())\n",
    "print()\n",
    "print(\"===== trainY =====\")\n",
    "print(\"trainY shape:\", trainY.shape)\n",
    "display(trainY.head())"
   ]
  },
  {
   "cell_type": "markdown",
   "id": "34359ee8",
   "metadata": {},
   "source": [
    "- `kospi` + `kosdaq` 주식 시장, `3년` 이상 존속하였던 종목들을 거래대금 `1000억` 이상의 조건으로 설정하고, `10일` 간의 데이터들을 `feature`로 두어 생성한 최종 머신러닝 데이터셋은 `11935` X `50` 의 크기가 나왔다. "
   ]
  },
  {
   "cell_type": "markdown",
   "id": "1c1b1299",
   "metadata": {},
   "source": [
    "----------"
   ]
  },
  {
   "cell_type": "markdown",
   "id": "058adb83",
   "metadata": {},
   "source": [
    "4단계의 과정을 거쳐 머신러닝 데이터셋 생성을 마쳤다. 다음 글에서는 생성된 머신러닝 데이터셋을 사용하여 여러 머신러닝 모델을 학습 및 평가하여 성능이 가장 좋은 모델을 선정하는 `baseline model selection`을 진행한다. "
   ]
  }
 ],
 "metadata": {
  "kernelspec": {
   "display_name": "Python 3 (ipykernel)",
   "language": "python",
   "name": "python3"
  },
  "language_info": {
   "codemirror_mode": {
    "name": "ipython",
    "version": 3
   },
   "file_extension": ".py",
   "mimetype": "text/x-python",
   "name": "python",
   "nbconvert_exporter": "python",
   "pygments_lexer": "ipython3",
   "version": "3.8.2"
  },
  "toc": {
   "base_numbering": 1,
   "nav_menu": {},
   "number_sections": true,
   "sideBar": true,
   "skip_h1_title": false,
   "title_cell": "Table of Contents",
   "title_sidebar": "Contents",
   "toc_cell": false,
   "toc_position": {
    "height": "calc(100% - 180px)",
    "left": "10px",
    "top": "150px",
    "width": "226.174px"
   },
   "toc_section_display": true,
   "toc_window_display": false
  }
 },
 "nbformat": 4,
 "nbformat_minor": 5
}
